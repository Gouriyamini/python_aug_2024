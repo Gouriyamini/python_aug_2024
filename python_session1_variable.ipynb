{
 "cells": [
  {
   "cell_type": "markdown",
   "id": "f6eda62e",
   "metadata": {},
   "source": [
    "## Variables"
   ]
  },
  {
   "cell_type": "markdown",
   "id": "f0259bf8",
   "metadata": {},
   "source": [
    "- Variables is used to store a value\n",
    "\n",
    "- Variables can change their values\n",
    "\n",
    "- In python latest value will be consider\n",
    "\n",
    "- python is step by step process"
   ]
  },
  {
   "cell_type": "code",
   "execution_count": 1,
   "id": "3e446c7b",
   "metadata": {},
   "outputs": [
    {
     "data": {
      "text/plain": [
       "10"
      ]
     },
     "execution_count": 1,
     "metadata": {},
     "output_type": "execute_result"
    }
   ],
   "source": [
    "num=10\n",
    "num\n",
    "\n",
    "#comment\n",
    "#value 10 stored in variable called 'num'"
   ]
  },
  {
   "cell_type": "code",
   "execution_count": 2,
   "id": "a5ca9950",
   "metadata": {},
   "outputs": [
    {
     "data": {
      "text/plain": [
       "100"
      ]
     },
     "execution_count": 2,
     "metadata": {},
     "output_type": "execute_result"
    }
   ],
   "source": [
    "NUM=100\n",
    "NUM"
   ]
  },
  {
   "cell_type": "code",
   "execution_count": 3,
   "id": "f7fbddc5",
   "metadata": {},
   "outputs": [
    {
     "data": {
      "text/plain": [
       "200"
      ]
     },
     "execution_count": 3,
     "metadata": {},
     "output_type": "execute_result"
    }
   ],
   "source": [
    "NUMber=200\n",
    "NUMber"
   ]
  },
  {
   "cell_type": "code",
   "execution_count": 4,
   "id": "a4e5cb1a",
   "metadata": {},
   "outputs": [
    {
     "data": {
      "text/plain": [
       "300"
      ]
     },
     "execution_count": 4,
     "metadata": {},
     "output_type": "execute_result"
    }
   ],
   "source": [
    "number123=300\n",
    "number123"
   ]
  },
  {
   "cell_type": "code",
   "execution_count": 8,
   "id": "a22d3b29",
   "metadata": {},
   "outputs": [
    {
     "ename": "SyntaxError",
     "evalue": "cannot assign to operator (3649041288.py, line 1)",
     "output_type": "error",
     "traceback": [
      "\u001b[1;36m  File \u001b[1;32m\"C:\\Users\\chila\\AppData\\Local\\Temp\\ipykernel_33580\\3649041288.py\"\u001b[1;36m, line \u001b[1;32m1\u001b[0m\n\u001b[1;33m    number@one=1\u001b[0m\n\u001b[1;37m    ^\u001b[0m\n\u001b[1;31mSyntaxError\u001b[0m\u001b[1;31m:\u001b[0m cannot assign to operator\n"
     ]
    }
   ],
   "source": [
    "number@one=1\n",
    "number@one"
   ]
  },
  {
   "cell_type": "code",
   "execution_count": 9,
   "id": "395e1590",
   "metadata": {},
   "outputs": [
    {
     "ename": "SyntaxError",
     "evalue": "invalid syntax (1103776505.py, line 1)",
     "output_type": "error",
     "traceback": [
      "\u001b[1;36m  File \u001b[1;32m\"C:\\Users\\chila\\AppData\\Local\\Temp\\ipykernel_33580\\1103776505.py\"\u001b[1;36m, line \u001b[1;32m1\u001b[0m\n\u001b[1;33m    number one=1\u001b[0m\n\u001b[1;37m           ^\u001b[0m\n\u001b[1;31mSyntaxError\u001b[0m\u001b[1;31m:\u001b[0m invalid syntax\n"
     ]
    }
   ],
   "source": [
    "number one=1\n",
    "number one"
   ]
  },
  {
   "cell_type": "code",
   "execution_count": 10,
   "id": "8a3f5f15",
   "metadata": {},
   "outputs": [
    {
     "data": {
      "text/plain": [
       "500"
      ]
     },
     "execution_count": 10,
     "metadata": {},
     "output_type": "execute_result"
    }
   ],
   "source": [
    "number_one=500\n",
    "number_one"
   ]
  },
  {
   "cell_type": "code",
   "execution_count": 11,
   "id": "482fe9d6",
   "metadata": {},
   "outputs": [
    {
     "data": {
      "text/plain": [
       "1000"
      ]
     },
     "execution_count": 11,
     "metadata": {},
     "output_type": "execute_result"
    }
   ],
   "source": [
    "n_u_m_b_e_r=1000\n",
    "n_u_m_b_e_r"
   ]
  },
  {
   "cell_type": "markdown",
   "id": "1d5604ff",
   "metadata": {},
   "source": [
    "- variables are case sensitive\n",
    "\n",
    "- variables can be capital and small lettes\n",
    "\n",
    "- variable does not allow spl characters\n",
    "\n",
    "- variables cannot have numbers has prefix\n",
    "\n",
    "- variables can have numbers as suffix"
   ]
  },
  {
   "cell_type": "code",
   "execution_count": 1,
   "id": "b851999d",
   "metadata": {},
   "outputs": [],
   "source": [
    "import os"
   ]
  },
  {
   "cell_type": "code",
   "execution_count": 2,
   "id": "7a088189",
   "metadata": {},
   "outputs": [
    {
     "data": {
      "text/plain": [
       "'C:\\\\Users\\\\chila'"
      ]
     },
     "execution_count": 2,
     "metadata": {},
     "output_type": "execute_result"
    }
   ],
   "source": [
    "os.getcwd()"
   ]
  }
 ],
 "metadata": {
  "kernelspec": {
   "display_name": "Python 3 (ipykernel)",
   "language": "python",
   "name": "python3"
  },
  "language_info": {
   "codemirror_mode": {
    "name": "ipython",
    "version": 3
   },
   "file_extension": ".py",
   "mimetype": "text/x-python",
   "name": "python",
   "nbconvert_exporter": "python",
   "pygments_lexer": "ipython3",
   "version": "3.9.13"
  }
 },
 "nbformat": 4,
 "nbformat_minor": 5
}
