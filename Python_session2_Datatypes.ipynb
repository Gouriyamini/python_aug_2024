{
 "cells": [
  {
   "cell_type": "code",
   "execution_count": 2,
   "id": "2c6231e3",
   "metadata": {},
   "outputs": [
    {
     "data": {
      "text/plain": [
       "100"
      ]
     },
     "execution_count": 2,
     "metadata": {},
     "output_type": "execute_result"
    }
   ],
   "source": [
    "num=100\n",
    "num"
   ]
  },
  {
   "cell_type": "markdown",
   "id": "a5ded99e",
   "metadata": {},
   "source": [
    "**type**"
   ]
  },
  {
   "cell_type": "code",
   "execution_count": 3,
   "id": "8f2853eb",
   "metadata": {},
   "outputs": [
    {
     "data": {
      "text/plain": [
       "int"
      ]
     },
     "execution_count": 3,
     "metadata": {},
     "output_type": "execute_result"
    }
   ],
   "source": [
    "type(num)"
   ]
  },
  {
   "cell_type": "markdown",
   "id": "f14f43f0",
   "metadata": {},
   "source": [
    "**integer**\n",
    "\n",
    "- binary(0 or 1)\n",
    " \n",
    "    -  bi means =2\n",
    "    \n",
    "    -  representaion is : 0b111, 0B101\n",
    "        \n",
    "    -  wrong representaion is : 0b123"
   ]
  },
  {
   "cell_type": "code",
   "execution_count": 4,
   "id": "86f1afca",
   "metadata": {},
   "outputs": [
    {
     "data": {
      "text/plain": [
       "int"
      ]
     },
     "execution_count": 4,
     "metadata": {},
     "output_type": "execute_result"
    }
   ],
   "source": [
    "num1=0b111\n",
    "type(num1)"
   ]
  },
  {
   "cell_type": "code",
   "execution_count": 5,
   "id": "f2bd2f6f",
   "metadata": {},
   "outputs": [
    {
     "data": {
      "text/plain": [
       "7"
      ]
     },
     "execution_count": 5,
     "metadata": {},
     "output_type": "execute_result"
    }
   ],
   "source": [
    "0b111"
   ]
  },
  {
   "cell_type": "code",
   "execution_count": 7,
   "id": "8832dcaf",
   "metadata": {},
   "outputs": [
    {
     "data": {
      "text/plain": [
       "42"
      ]
     },
     "execution_count": 7,
     "metadata": {},
     "output_type": "execute_result"
    }
   ],
   "source": [
    "0b101010"
   ]
  },
  {
   "cell_type": "markdown",
   "id": "4460603c",
   "metadata": {},
   "source": [
    "- Octa \n",
    "  \n",
    "    - octa means =8\n",
    "    \n",
    "    - octa includes only 0 1 2 3 4 5 6 7\n",
    "    \n",
    "    - representation is 0o123, 0o456\n",
    "    \n",
    "    - wrong representation is : 0o897"
   ]
  },
  {
   "cell_type": "code",
   "execution_count": 3,
   "id": "55f6bc2c",
   "metadata": {},
   "outputs": [
    {
     "data": {
      "text/plain": [
       "83"
      ]
     },
     "execution_count": 3,
     "metadata": {},
     "output_type": "execute_result"
    }
   ],
   "source": [
    "0o123"
   ]
  },
  {
   "cell_type": "code",
   "execution_count": 5,
   "id": "fa31b0e9",
   "metadata": {},
   "outputs": [
    {
     "data": {
      "text/plain": [
       "375"
      ]
     },
     "execution_count": 5,
     "metadata": {},
     "output_type": "execute_result"
    }
   ],
   "source": [
    "0o567"
   ]
  },
  {
   "cell_type": "markdown",
   "id": "a314ceff",
   "metadata": {},
   "source": [
    "- hexa\n",
    "\n",
    " - hexa means =16\n",
    "\n",
    " - hexa includes only 0 1 2 3 4 5 6 7 8 9 A B C D E F \n",
    "\n",
    " - representation is 0x123, 0xabc\n",
    "\n",
    " - wrong representation is : 0xabz"
   ]
  },
  {
   "cell_type": "code",
   "execution_count": 4,
   "id": "6aa5c551",
   "metadata": {},
   "outputs": [
    {
     "data": {
      "text/plain": [
       "291"
      ]
     },
     "execution_count": 4,
     "metadata": {},
     "output_type": "execute_result"
    }
   ],
   "source": [
    "0x123"
   ]
  },
  {
   "cell_type": "code",
   "execution_count": 6,
   "id": "3c3a163e",
   "metadata": {},
   "outputs": [
    {
     "data": {
      "text/plain": [
       "2748"
      ]
     },
     "execution_count": 6,
     "metadata": {},
     "output_type": "execute_result"
    }
   ],
   "source": [
    "0xabc\n",
    "\n",
    "# 256*10+"
   ]
  },
  {
   "cell_type": "code",
   "execution_count": null,
   "id": "a4407256",
   "metadata": {},
   "outputs": [],
   "source": [
    "2^2  2^1  2^0\n",
    "4    2    1\n",
    "0    0    0 = 0\n",
    "0    0    1 = 1\n",
    "0    1    0 = 2 \n",
    "0    1    1\n",
    "1    0    0 \n",
    "1    0    1\n",
    "1    1    0\n",
    "1    1    1 "
   ]
  },
  {
   "cell_type": "code",
   "execution_count": null,
   "id": "cdae4c5d",
   "metadata": {},
   "outputs": [],
   "source": [
    "2^2  2^1  2^0\n",
    "4    2    1\n",
    "0    0    0 = 0\n",
    "0    0    1 \n",
    "0    1    0 \n",
    "0    1    1\n",
    "1    0    0 \n",
    "1    0    1\n",
    "1    1    0\n",
    "1    1    1 "
   ]
  },
  {
   "cell_type": "markdown",
   "id": "6d8ab6e8",
   "metadata": {},
   "source": [
    "**Float**"
   ]
  },
  {
   "cell_type": "code",
   "execution_count": 7,
   "id": "9283d15a",
   "metadata": {},
   "outputs": [
    {
     "data": {
      "text/plain": [
       "float"
      ]
     },
     "execution_count": 7,
     "metadata": {},
     "output_type": "execute_result"
    }
   ],
   "source": [
    "number_float =123.56\n",
    "type(number_float)"
   ]
  },
  {
   "cell_type": "code",
   "execution_count": 8,
   "id": "1774fe6c",
   "metadata": {},
   "outputs": [
    {
     "data": {
      "text/plain": [
       "10.0"
      ]
     },
     "execution_count": 8,
     "metadata": {},
     "output_type": "execute_result"
    }
   ],
   "source": [
    "1e1"
   ]
  },
  {
   "cell_type": "code",
   "execution_count": 9,
   "id": "8997ab89",
   "metadata": {},
   "outputs": [
    {
     "data": {
      "text/plain": [
       "100.0"
      ]
     },
     "execution_count": 9,
     "metadata": {},
     "output_type": "execute_result"
    }
   ],
   "source": [
    "1e2"
   ]
  },
  {
   "cell_type": "code",
   "execution_count": 13,
   "id": "de293216",
   "metadata": {},
   "outputs": [
    {
     "data": {
      "text/plain": [
       "(10.0, 100.0, 1000.0, 1000.0)"
      ]
     },
     "execution_count": 13,
     "metadata": {},
     "output_type": "execute_result"
    }
   ],
   "source": [
    "1e1,1e2,1e3,1e3"
   ]
  },
  {
   "cell_type": "code",
   "execution_count": 11,
   "id": "7363ae52",
   "metadata": {},
   "outputs": [
    {
     "data": {
      "text/plain": [
       "(10.0, 100.0, 1000.0, 1000.0)"
      ]
     },
     "execution_count": 11,
     "metadata": {},
     "output_type": "execute_result"
    }
   ],
   "source": [
    "1e+1,1e+2,1e+3,1e+3"
   ]
  },
  {
   "cell_type": "code",
   "execution_count": 15,
   "id": "5e057ee6",
   "metadata": {},
   "outputs": [
    {
     "data": {
      "text/plain": [
       "(0.1, 0.01, 0.001)"
      ]
     },
     "execution_count": 15,
     "metadata": {},
     "output_type": "execute_result"
    }
   ],
   "source": [
    "1e-1,1e-2,1e-3\n",
    "\n",
    "# means 1/10, 1/100,1/100"
   ]
  },
  {
   "cell_type": "code",
   "execution_count": null,
   "id": "de9520f7",
   "metadata": {},
   "outputs": [],
   "source": [
    "# need to check answer will be zero\n",
    "# 0.0\n",
    "# 1e-13"
   ]
  },
  {
   "cell_type": "markdown",
   "id": "30a67a78",
   "metadata": {},
   "source": [
    "**Boolean**\n",
    "  \n",
    "    - True  = 1\n",
    "    - False = 0"
   ]
  },
  {
   "cell_type": "code",
   "execution_count": 18,
   "id": "2d2947e9",
   "metadata": {},
   "outputs": [
    {
     "data": {
      "text/plain": [
       "bool"
      ]
     },
     "execution_count": 18,
     "metadata": {},
     "output_type": "execute_result"
    }
   ],
   "source": [
    "ans=True\n",
    "type(ans)"
   ]
  },
  {
   "cell_type": "code",
   "execution_count": 19,
   "id": "c483be2d",
   "metadata": {},
   "outputs": [
    {
     "data": {
      "text/plain": [
       "bool"
      ]
     },
     "execution_count": 19,
     "metadata": {},
     "output_type": "execute_result"
    }
   ],
   "source": [
    "wrong_ans=False\n",
    "type(wrong_ans)"
   ]
  },
  {
   "cell_type": "markdown",
   "id": "89367de4",
   "metadata": {},
   "source": [
    "$String$"
   ]
  },
  {
   "cell_type": "code",
   "execution_count": 20,
   "id": "dff1845c",
   "metadata": {},
   "outputs": [
    {
     "data": {
      "text/plain": [
       "'Python'"
      ]
     },
     "execution_count": 20,
     "metadata": {},
     "output_type": "execute_result"
    }
   ],
   "source": [
    "name1='Python'\n",
    "name1"
   ]
  },
  {
   "cell_type": "code",
   "execution_count": 21,
   "id": "b1963cfa",
   "metadata": {},
   "outputs": [
    {
     "data": {
      "text/plain": [
       "'naresh it'"
      ]
     },
     "execution_count": 21,
     "metadata": {},
     "output_type": "execute_result"
    }
   ],
   "source": [
    "name2=\"naresh it\"\n",
    "name2"
   ]
  },
  {
   "cell_type": "code",
   "execution_count": 22,
   "id": "6a694558",
   "metadata": {},
   "outputs": [
    {
     "data": {
      "text/plain": [
       "str"
      ]
     },
     "execution_count": 22,
     "metadata": {},
     "output_type": "execute_result"
    }
   ],
   "source": [
    "type(name1)"
   ]
  },
  {
   "cell_type": "markdown",
   "id": "471295d9",
   "metadata": {},
   "source": [
    "- integer ===== int\n",
    "- boolean ===== bool\n",
    "- string  ===== str\n",
    "- float   ===== float"
   ]
  },
  {
   "cell_type": "code",
   "execution_count": null,
   "id": "30455f0f",
   "metadata": {},
   "outputs": [],
   "source": [
    "i like 'python'"
   ]
  },
  {
   "cell_type": "raw",
   "id": "d12e70db",
   "metadata": {},
   "source": [
    "name3='i 'like' python'\n",
    "name3"
   ]
  },
  {
   "cell_type": "code",
   "execution_count": 25,
   "id": "c83abf6c",
   "metadata": {},
   "outputs": [
    {
     "data": {
      "text/plain": [
       "'i \"like\" python'"
      ]
     },
     "execution_count": 25,
     "metadata": {},
     "output_type": "execute_result"
    }
   ],
   "source": [
    "name3= 'i \"like\" python'\n",
    "name3"
   ]
  },
  {
   "cell_type": "code",
   "execution_count": 27,
   "id": "a1a6cbac",
   "metadata": {},
   "outputs": [
    {
     "data": {
      "text/plain": [
       "\"i 'like' python\""
      ]
     },
     "execution_count": 27,
     "metadata": {},
     "output_type": "execute_result"
    }
   ],
   "source": [
    "name3= \"i 'like' python\"\n",
    "name3"
   ]
  },
  {
   "cell_type": "markdown",
   "id": "f54f74bb",
   "metadata": {},
   "source": [
    "**Note**\n",
    " - Entire sentence in single quotes, then highlited word in double quotes\n",
    " - Entire sentence in double quotes, then highlited word in singe quotes  "
   ]
  },
  {
   "cell_type": "code",
   "execution_count": 30,
   "id": "721226ea",
   "metadata": {},
   "outputs": [
    {
     "data": {
      "text/plain": [
       "'hello how are you\\n        how do you do\\n        i m good\\n        how is DS class'"
      ]
     },
     "execution_count": 30,
     "metadata": {},
     "output_type": "execute_result"
    }
   ],
   "source": [
    "str1=\"\"\"hello how are you\n",
    "        how do you do\n",
    "        i m good\n",
    "        how is DS class\"\"\"\n",
    "str1\n",
    "\n",
    "# \\n = new line\n",
    "# there is mupltiple lines are there in output"
   ]
  },
  {
   "cell_type": "code",
   "execution_count": null,
   "id": "d03cb004",
   "metadata": {},
   "outputs": [],
   "source": []
  },
  {
   "cell_type": "markdown",
   "id": "354c06d9",
   "metadata": {},
   "source": [
    "- strings can represent in single quotes or double quotes or triple quote\n",
    "- when a person writing something in triple quotes: **Doc String**\n",
    "- Triple quotes are used for conveying information like markdown in Jupyter notebook\n",
    "- Triple quotes are not used for coding part"
   ]
  }
 ],
 "metadata": {
  "kernelspec": {
   "display_name": "Python 3 (ipykernel)",
   "language": "python",
   "name": "python3"
  },
  "language_info": {
   "codemirror_mode": {
    "name": "ipython",
    "version": 3
   },
   "file_extension": ".py",
   "mimetype": "text/x-python",
   "name": "python",
   "nbconvert_exporter": "python",
   "pygments_lexer": "ipython3",
   "version": "3.9.13"
  }
 },
 "nbformat": 4,
 "nbformat_minor": 5
}
